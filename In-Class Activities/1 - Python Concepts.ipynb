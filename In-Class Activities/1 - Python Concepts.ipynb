{
 "cells": [
  {
   "cell_type": "markdown",
   "id": "9383bafa",
   "metadata": {},
   "source": [
    "### Python Programming Concepts"
   ]
  },
  {
   "cell_type": "markdown",
   "id": "17df7d6e",
   "metadata": {},
   "source": [
    "#### 1. Create a variable to store the value 500 for sales"
   ]
  },
  {
   "cell_type": "code",
   "execution_count": 111,
   "id": "a5f43c2f",
   "metadata": {},
   "outputs": [
    {
     "data": {
      "text/plain": [
       "500"
      ]
     },
     "execution_count": 111,
     "metadata": {},
     "output_type": "execute_result"
    }
   ],
   "source": [
    "sales = 500\n",
    "sales"
   ]
  },
  {
   "cell_type": "markdown",
   "id": "6dc8b9ea",
   "metadata": {},
   "source": [
    "#### 2. Create a variable to store several values:  \n",
    "* sales: 500, 475, 625\n",
    "* integers 1 - 9 "
   ]
  },
  {
   "cell_type": "code",
   "execution_count": 113,
   "id": "902fe3bd",
   "metadata": {},
   "outputs": [
    {
     "data": {
      "text/plain": [
       "[500, 475, 625]"
      ]
     },
     "execution_count": 113,
     "metadata": {},
     "output_type": "execute_result"
    }
   ],
   "source": [
    "sales = [500, 475, 625]\n",
    "sales"
   ]
  },
  {
   "cell_type": "code",
   "execution_count": 115,
   "id": "bbc89976-1dc6-4515-8b0e-0e305b948f87",
   "metadata": {},
   "outputs": [
    {
     "data": {
      "text/plain": [
       "[1, 2, 3, 4, 5, 6, 7, 8, 9]"
      ]
     },
     "execution_count": 115,
     "metadata": {},
     "output_type": "execute_result"
    }
   ],
   "source": [
    "integers = list(range(1, 10))\n",
    "integers"
   ]
  },
  {
   "cell_type": "markdown",
   "id": "62e55953",
   "metadata": {},
   "source": [
    "#### 3. Create a variable to store the names and email addresses for a number of customers\n",
    "* John, john@some.com; Ann, ann@some.com"
   ]
  },
  {
   "cell_type": "code",
   "execution_count": 117,
   "id": "03f2b161",
   "metadata": {},
   "outputs": [
    {
     "data": {
      "text/plain": [
       "[{'Name': 'John', 'Email': 'john@some.com'},\n",
       " {'Name': 'Ann', 'Email': 'ann@some.com'}]"
      ]
     },
     "execution_count": 117,
     "metadata": {},
     "output_type": "execute_result"
    }
   ],
   "source": [
    "customers = [{\"Name\": \"John\", \"Email\": \"john@some.com\"}, {\"Name\": \"Ann\", \"Email\": \"ann@some.com\"}]\n",
    "customers"
   ]
  },
  {
   "cell_type": "markdown",
   "id": "d6b1e8c6",
   "metadata": {},
   "source": [
    "#### 4. Use Python to generate a random value based on each of following:\n",
    "1. between 0 and 1\n",
    "2. the standard normal distribution (rounded to two decimal places)\n",
    "3. a value between 1 and 10\n",
    "4. either H or T"
   ]
  },
  {
   "cell_type": "code",
   "execution_count": 119,
   "id": "f004d7b5",
   "metadata": {},
   "outputs": [],
   "source": [
    "import random"
   ]
  },
  {
   "cell_type": "code",
   "execution_count": 121,
   "id": "e88a8b81-b6aa-40fe-802e-bdbc7a10b52f",
   "metadata": {},
   "outputs": [
    {
     "data": {
      "text/plain": [
       "0.03572759353917021"
      ]
     },
     "execution_count": 121,
     "metadata": {},
     "output_type": "execute_result"
    }
   ],
   "source": [
    "random_decimal = random.random()\n",
    "random_decimal"
   ]
  },
  {
   "cell_type": "code",
   "execution_count": 123,
   "id": "3a150c3e",
   "metadata": {},
   "outputs": [
    {
     "data": {
      "text/plain": [
       "0.81"
      ]
     },
     "execution_count": 123,
     "metadata": {},
     "output_type": "execute_result"
    }
   ],
   "source": [
    "random_normal = round(random.normalvariate(), 2)\n",
    "random_normal"
   ]
  },
  {
   "cell_type": "code",
   "execution_count": 125,
   "id": "f80f4b3b",
   "metadata": {},
   "outputs": [
    {
     "data": {
      "text/plain": [
       "4"
      ]
     },
     "execution_count": 125,
     "metadata": {},
     "output_type": "execute_result"
    }
   ],
   "source": [
    "random_integer = random.randint(1, 10)\n",
    "random_integer"
   ]
  },
  {
   "cell_type": "code",
   "execution_count": 135,
   "id": "bdb52b86",
   "metadata": {},
   "outputs": [
    {
     "data": {
      "text/plain": [
       "'H'"
      ]
     },
     "execution_count": 135,
     "metadata": {},
     "output_type": "execute_result"
    }
   ],
   "source": [
    "random_coin = random.choice([\"H\", \"T\"])\n",
    "random_coin"
   ]
  },
  {
   "cell_type": "markdown",
   "id": "7eddf06a",
   "metadata": {},
   "source": [
    "#### 5. Use Python to determine your current working directory"
   ]
  },
  {
   "cell_type": "code",
   "execution_count": 139,
   "id": "d8f79474",
   "metadata": {},
   "outputs": [
    {
     "name": "stdout",
     "output_type": "stream",
     "text": [
      "C:\\Users\\luket\\OIM7502_SP25\n"
     ]
    }
   ],
   "source": [
    "import os\n",
    "print(os.getcwd())"
   ]
  },
  {
   "cell_type": "markdown",
   "id": "fc43ec50",
   "metadata": {},
   "source": [
    "#### 6. Use Python to determine how many days until New Year's Day"
   ]
  },
  {
   "cell_type": "code",
   "execution_count": 143,
   "id": "13f630fe",
   "metadata": {},
   "outputs": [
    {
     "name": "stdout",
     "output_type": "stream",
     "text": [
      "2026-01-01\n",
      "338 days, 0:00:00\n"
     ]
    }
   ],
   "source": [
    "import datetime as dt\n",
    "today = dt.date.today()\n",
    "nyd = dt.date(2026, 1, 1)\n",
    "print(nyd)\n",
    "print(nyd - today)"
   ]
  },
  {
   "cell_type": "markdown",
   "id": "2ba4ea92",
   "metadata": {},
   "source": [
    "#### 7. Write a short program that displays the future value of 1,000 earning 5%  at the end of each year for the next 5 years"
   ]
  },
  {
   "cell_type": "code",
   "execution_count": 157,
   "id": "6fef4a8c",
   "metadata": {},
   "outputs": [
    {
     "name": "stdout",
     "output_type": "stream",
     "text": [
      "End of Year 1: $1050.00\n",
      "End of Year 2: $1102.50\n",
      "End of Year 3: $1157.62\n",
      "End of Year 4: $1215.51\n",
      "End of Year 5: $1276.28\n"
     ]
    }
   ],
   "source": [
    "principal = 1000\n",
    "interest = 0.05\n",
    "\n",
    "balance = principal\n",
    "for year in range(1, 6):\n",
    "    balance *= (1 + rate)\n",
    "    print(f\"End of Year {year}: ${balance:.2f}\")"
   ]
  },
  {
   "cell_type": "markdown",
   "id": "150201c8",
   "metadata": {},
   "source": [
    "#### 8. Write a short program that prompts a user to enter a stock symbol and press enter. Add each symbol entered to a variable. The program should run until the user presses the enter key without entering anything (empty string) "
   ]
  },
  {
   "cell_type": "code",
   "execution_count": 171,
   "id": "931a346f",
   "metadata": {},
   "outputs": [
    {
     "name": "stdin",
     "output_type": "stream",
     "text": [
      "Enter a stock symbol (to stop, press the enter key without entering anything):  APPL\n",
      "Enter a stock symbol (to stop, press the enter key without entering anything):  goog\n",
      "Enter a stock symbol (to stop, press the enter key without entering anything):  \n"
     ]
    },
    {
     "name": "stdout",
     "output_type": "stream",
     "text": [
      "Stocks entered:  ['APPL', 'GOOG']\n"
     ]
    }
   ],
   "source": [
    "stocks = []\n",
    "while True:\n",
    "    stock = input(\"Enter a stock symbol (to stop, press the enter key without entering anything): \")\n",
    "    if stock == \"\":\n",
    "        break\n",
    "    stocks.append(stock.upper())\n",
    "print(\"Stocks entered: \", stocks)"
   ]
  },
  {
   "cell_type": "markdown",
   "id": "fc2a7592",
   "metadata": {},
   "source": [
    "#### 9. Write the code necessary to calculate the sum of the square differences of a group of values : \n",
    "58, 32, 37, 41, 36, 36, 54, 37, 25, 53\n",
    "##### $\\Sigma $(${x}$ - $\\bar{x}$)$^2$"
   ]
  },
  {
   "cell_type": "code",
   "execution_count": 175,
   "id": "13d9a6c5",
   "metadata": {},
   "outputs": [
    {
     "name": "stdout",
     "output_type": "stream",
     "text": [
      "1020.9\n"
     ]
    }
   ],
   "source": [
    "values = [58, 32, 37, 41, 36, 36, 54, 37, 25, 53]\n",
    "mean = sum(values) / len(values)\n",
    "sum_square_diff = sum((value - mean) ** 2 for value in values)\n",
    "print(sum_square_diff)"
   ]
  },
  {
   "cell_type": "markdown",
   "id": "6d6f2e64",
   "metadata": {},
   "source": [
    "#### 10. Opening, reading and writing files"
   ]
  },
  {
   "cell_type": "code",
   "execution_count": 203,
   "id": "f7fa569d",
   "metadata": {},
   "outputs": [
    {
     "name": "stdout",
     "output_type": "stream",
     "text": [
      "Test 123\n"
     ]
    }
   ],
   "source": [
    "file = open(\"data/Test.txt\", \"w\")\n",
    "file.write(\"Test 123\")\n",
    "file.close()\n",
    "\n",
    "file = open(\"data/Test.txt\", \"r\")\n",
    "text = file.read()\n",
    "file.close()\n",
    "\n",
    "print(text)"
   ]
  },
  {
   "cell_type": "markdown",
   "id": "eec548d6",
   "metadata": {},
   "source": [
    "#### 11. Create a function that will simulate rolling two die and return the value of each and the sum "
   ]
  },
  {
   "cell_type": "code",
   "execution_count": 197,
   "id": "bb115cdc",
   "metadata": {},
   "outputs": [
    {
     "name": "stdout",
     "output_type": "stream",
     "text": [
      "Roll 1: Die 1 = 3, Die 2 = 5, Sum = 8\n",
      "Roll 2: Die 1 = 5, Die 2 = 5, Sum = 10\n",
      "Roll 3: Die 1 = 5, Die 2 = 3, Sum = 8\n",
      "Roll 4: Die 1 = 2, Die 2 = 5, Sum = 7\n",
      "Roll 5: Die 1 = 2, Die 2 = 4, Sum = 6\n"
     ]
    }
   ],
   "source": [
    "import random\n",
    "def roll_two_dice(rolls):\n",
    "    for roll in range(1, rolls + 1):\n",
    "        die_1 = random.randint(1, 6)\n",
    "        die_2 = random.randint(1, 6)\n",
    "        total = die_1 + die_2\n",
    "        print(f\"Roll {roll}: Die 1 = {die_1}, Die 2 = {die_2}, Sum = {total}\")\n",
    "roll_two_dice(5)"
   ]
  },
  {
   "cell_type": "markdown",
   "id": "21556d7f",
   "metadata": {},
   "source": [
    "#### 12. Write the code needed to evaluate whether a value in a group of values is negative or postive and prints an approriate message, i.e. postive, negative \n",
    "-1.59, 2.36, 1.69, 1.13, -0.91, 1.48, -0.34, 1.31, -0.74, 0.2"
   ]
  },
  {
   "cell_type": "code",
   "execution_count": 200,
   "id": "d6c38ecb",
   "metadata": {},
   "outputs": [
    {
     "name": "stdout",
     "output_type": "stream",
     "text": [
      "-1.59 is negative.\n",
      "2.36 is positive.\n",
      "1.69 is positive.\n",
      "1.13 is positive.\n",
      "-0.91 is negative.\n",
      "1.48 is positive.\n",
      "-0.34 is negative.\n",
      "1.31 is positive.\n",
      "-0.74 is negative.\n",
      "0.2 is positive.\n"
     ]
    }
   ],
   "source": [
    "values = [-1.59, 2.36, 1.69, 1.13, -0.91, 1.48, -0.34, 1.31, -0.74, 0.2]\n",
    "for value in values:\n",
    "    if value < 0:\n",
    "        print(f\"{value} is negative.\")\n",
    "    elif value == 0:\n",
    "        print(f\"{value} is zero.\")\n",
    "    else:\n",
    "        print(f\"{value} is positive.\")"
   ]
  },
  {
   "cell_type": "markdown",
   "id": "8cafe65c",
   "metadata": {},
   "source": [
    "#### 13.  Complete the following:\n",
    "1. Write a program that generates 500 random integers from 1 to n, for example, the first integer will be 1 the second will be 1 or 2, the fifth between 1 and 5, and so on.\n",
    "2. The program should write each integer to a file \n",
    "3. Once all integers are written close the file\n",
    "\n",
    "##### Part 2\n",
    "1. Open and read the file into a list\n",
    "2. Create a line plot of the data"
   ]
  },
  {
   "cell_type": "code",
   "execution_count": 207,
   "id": "60a910bb",
   "metadata": {},
   "outputs": [],
   "source": [
    "import random\n",
    "file = open(\"data/Test.txt\", \"w\")\n",
    "for value in range(1, 501):\n",
    "    random_number = random.randint(1, value)\n",
    "    file.write(str(random_number) + \"\\n\")\n",
    "file.close()"
   ]
  },
  {
   "cell_type": "code",
   "execution_count": 235,
   "id": "d6b4180c",
   "metadata": {},
   "outputs": [
    {
     "data": {
      "text/plain": [
       "<function matplotlib.pyplot.show(close=None, block=None)>"
      ]
     },
     "execution_count": 235,
     "metadata": {},
     "output_type": "execute_result"
    },
    {
     "data": {
      "image/png": "[encoded data removed]",
      "text/plain": [
       "<Figure size 640x480 with 1 Axes>"
      ]
     },
     "metadata": {},
     "output_type": "display_data"
    }
   ],
   "source": [
    "import matplotlib.pyplot as plt\n",
    "file = open(\"data/Test.txt\", \"r\")\n",
    "values = [int(line.strip()) for line in file]\n",
    "plt.plot(values)\n",
    "plt.show"
   ]
  }
 ],
 "metadata": {
  "kernelspec": {
   "display_name": "Python 3 (ipykernel)",
   "language": "python",
   "name": "python3"
  },
  "language_info": {
   "codemirror_mode": {
    "name": "ipython",
    "version": 3
   },
   "file_extension": ".py",
   "mimetype": "text/x-python",
   "name": "python",
   "nbconvert_exporter": "python",
   "pygments_lexer": "ipython3",
   "version": "3.12.7"
  }
 },
 "nbformat": 4,
 "nbformat_minor": 5
}
